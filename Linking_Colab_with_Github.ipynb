{
  "nbformat": 4,
  "nbformat_minor": 0,
  "metadata": {
    "colab": {
      "name": "Linking Colab with Github.ipynb",
      "provenance": [],
      "authorship_tag": "ABX9TyPRepr7HMF9LctlD7VTfMLG",
      "include_colab_link": true
    },
    "kernelspec": {
      "name": "python3",
      "display_name": "Python 3"
    },
    "language_info": {
      "name": "python"
    }
  },
  "cells": [
    {
      "cell_type": "markdown",
      "metadata": {
        "id": "view-in-github",
        "colab_type": "text"
      },
      "source": [
        "<a href=\"https://colab.research.google.com/github/nalymugwe/Mine/blob/main/Linking_Colab_with_Github.ipynb\" target=\"_parent\"><img src=\"https://colab.research.google.com/assets/colab-badge.svg\" alt=\"Open In Colab\"/></a>"
      ]
    },
    {
      "cell_type": "code",
      "metadata": {
        "colab": {
          "base_uri": "https://localhost:8080/"
        },
        "id": "-2vskDTv3f4H",
        "outputId": "11055b7e-9264-46ac-e81e-47ce118a1c4b"
      },
      "source": [
        "#Check the current running directory\n",
        "!pwd\n"
      ],
      "execution_count": 1,
      "outputs": [
        {
          "output_type": "stream",
          "text": [
            "/content\n"
          ],
          "name": "stdout"
        }
      ]
    },
    {
      "cell_type": "code",
      "metadata": {
        "colab": {
          "base_uri": "https://localhost:8080/"
        },
        "id": "K3wEKQ4l4H6t",
        "outputId": "915fa89e-edc8-4484-ac4b-e1cddda2eece"
      },
      "source": [
        "#Mount Colab onto Google Drive for easier extraction of files\n",
        "from google.colab import drive\n",
        "drive.mount('/content/gdrive')"
      ],
      "execution_count": 2,
      "outputs": [
        {
          "output_type": "stream",
          "text": [
            "Drive already mounted at /content/gdrive; to attempt to forcibly remount, call drive.mount(\"/content/gdrive\", force_remount=True).\n"
          ],
          "name": "stdout"
        }
      ]
    },
    {
      "cell_type": "code",
      "metadata": {
        "colab": {
          "base_uri": "https://localhost:8080/"
        },
        "id": "Yta9OKWr4cKu",
        "outputId": "917e7f38-a9ae-4291-b6bf-d8c54ab01abd"
      },
      "source": [
        "#Check list of files\n",
        "!ls\n"
      ],
      "execution_count": 3,
      "outputs": [
        {
          "output_type": "stream",
          "text": [
            "gdrive\tsample_data\n"
          ],
          "name": "stdout"
        }
      ]
    },
    {
      "cell_type": "code",
      "metadata": {
        "colab": {
          "base_uri": "https://localhost:8080/"
        },
        "id": "ISOxWIq94hXC",
        "outputId": "e3eb6808-c1f1-41e0-eaa8-62b397ec8925"
      },
      "source": [
        "#This didn't work so I opted for the next line of code\n",
        "!ls /content/gdrive/MyDrive/Data Science/Data"
      ],
      "execution_count": 4,
      "outputs": [
        {
          "output_type": "stream",
          "text": [
            "ls: cannot access '/content/gdrive/MyDrive/Data': No such file or directory\n",
            "ls: cannot access 'Science/Data': No such file or directory\n"
          ],
          "name": "stdout"
        }
      ]
    },
    {
      "cell_type": "code",
      "metadata": {
        "colab": {
          "base_uri": "https://localhost:8080/"
        },
        "id": "E2gdlFZY63Ug",
        "outputId": "436b3a52-adeb-4ab8-cdfa-c65632511648"
      },
      "source": [
        "#First import the operating system and confirm the list of files.\n",
        "import os\n",
        "os.chdir('/content/gdrive/MyDrive/Data Science/Data')\n",
        "!ls"
      ],
      "execution_count": 5,
      "outputs": [
        {
          "output_type": "stream",
          "text": [
            "'Measurement and analysis of Youtube Trending Videos.gdoc'\n",
            "'Project ideas to tackle.gdoc'\n",
            " services_annual_dataset.zip\n",
            " YouTubedata_20210106_220013B.csv\n",
            " Youtubedata_20210109_213012A.csv\n",
            "'YoutubeData.csv - Trending Videos.zip'\n",
            "'YouTube Project Files.zip'\n"
          ],
          "name": "stdout"
        }
      ]
    },
    {
      "cell_type": "code",
      "metadata": {
        "colab": {
          "base_uri": "https://localhost:8080/",
          "height": 666
        },
        "id": "nEV7Aqnj73Xp",
        "outputId": "678efb36-8fd6-463e-ab78-e498394ae8d7"
      },
      "source": [
        "#Import the files you want to work on, then proceed with EDA if you so wish\n",
        "import pandas as pd\n",
        "df = pd.read_csv(\"/content/gdrive/MyDrive/Data Science/Data/YouTubedata_20210106_220013B.csv\")\n",
        "df.head()"
      ],
      "execution_count": 6,
      "outputs": [
        {
          "output_type": "execute_result",
          "data": {
            "text/html": [
              "<div>\n",
              "<style scoped>\n",
              "    .dataframe tbody tr th:only-of-type {\n",
              "        vertical-align: middle;\n",
              "    }\n",
              "\n",
              "    .dataframe tbody tr th {\n",
              "        vertical-align: top;\n",
              "    }\n",
              "\n",
              "    .dataframe thead th {\n",
              "        text-align: right;\n",
              "    }\n",
              "</style>\n",
              "<table border=\"1\" class=\"dataframe\">\n",
              "  <thead>\n",
              "    <tr style=\"text-align: right;\">\n",
              "      <th></th>\n",
              "      <th>Unnamed: 0</th>\n",
              "      <th>index</th>\n",
              "      <th>title</th>\n",
              "      <th>view</th>\n",
              "      <th>channel_sub</th>\n",
              "      <th>view_to_sub</th>\n",
              "      <th>like</th>\n",
              "      <th>dislike</th>\n",
              "      <th>comment</th>\n",
              "      <th>length</th>\n",
              "      <th>description</th>\n",
              "      <th>dimension</th>\n",
              "      <th>definition</th>\n",
              "      <th>caption</th>\n",
              "      <th>published_at</th>\n",
              "      <th>tags</th>\n",
              "      <th>category</th>\n",
              "      <th>thumbnail</th>\n",
              "      <th>localizations</th>\n",
              "      <th>topic_categories</th>\n",
              "      <th>default_language</th>\n",
              "      <th>live</th>\n",
              "    </tr>\n",
              "  </thead>\n",
              "  <tbody>\n",
              "    <tr>\n",
              "      <th>0</th>\n",
              "      <td>0</td>\n",
              "      <td>VKtJkY5w8s0</td>\n",
              "      <td>Every Cold Open | The Office | Season 2 pt 1</td>\n",
              "      <td>10829</td>\n",
              "      <td>163000</td>\n",
              "      <td>0.066436</td>\n",
              "      <td>327.0</td>\n",
              "      <td>8.0</td>\n",
              "      <td>45.0</td>\n",
              "      <td>PT11M52S</td>\n",
              "      <td>The Office. Every Episode. Extras. Exclusives....</td>\n",
              "      <td>2d</td>\n",
              "      <td>hd</td>\n",
              "      <td>False</td>\n",
              "      <td>2021-01-05T17:15:01Z</td>\n",
              "      <td>['peacock', 'peacock tv', 'peacock streaming s...</td>\n",
              "      <td>24</td>\n",
              "      <td>https://i.ytimg.com/vi/VKtJkY5w8s0/maxresdefau...</td>\n",
              "      <td>NaN</td>\n",
              "      <td>NaN</td>\n",
              "      <td>NaN</td>\n",
              "      <td>0</td>\n",
              "    </tr>\n",
              "    <tr>\n",
              "      <th>1</th>\n",
              "      <td>1</td>\n",
              "      <td>Vj-I54YlYTA</td>\n",
              "      <td>Punky Brewster | First 5 Minutes of the Series...</td>\n",
              "      <td>2144</td>\n",
              "      <td>163000</td>\n",
              "      <td>0.013153</td>\n",
              "      <td>84.0</td>\n",
              "      <td>3.0</td>\n",
              "      <td>18.0</td>\n",
              "      <td>PT4M59S</td>\n",
              "      <td>Punky Brewster streaming now on Peacock: https...</td>\n",
              "      <td>2d</td>\n",
              "      <td>hd</td>\n",
              "      <td>False</td>\n",
              "      <td>2021-01-04T14:00:17Z</td>\n",
              "      <td>['peacock', 'peacock tv', 'peacock streaming s...</td>\n",
              "      <td>24</td>\n",
              "      <td>https://i.ytimg.com/vi/Vj-I54YlYTA/maxresdefau...</td>\n",
              "      <td>NaN</td>\n",
              "      <td>['https://en.wikipedia.org/wiki/Television_pro...</td>\n",
              "      <td>NaN</td>\n",
              "      <td>0</td>\n",
              "    </tr>\n",
              "    <tr>\n",
              "      <th>2</th>\n",
              "      <td>2</td>\n",
              "      <td>J9DUJRABuk4</td>\n",
              "      <td>Making of The Office: The Pilot | A Peacock Extra</td>\n",
              "      <td>670854</td>\n",
              "      <td>163000</td>\n",
              "      <td>4.115669</td>\n",
              "      <td>24378.0</td>\n",
              "      <td>349.0</td>\n",
              "      <td>1022.0</td>\n",
              "      <td>PT5M15S</td>\n",
              "      <td>The Office. Every Episode. Extras. Exclusives....</td>\n",
              "      <td>2d</td>\n",
              "      <td>hd</td>\n",
              "      <td>False</td>\n",
              "      <td>2021-01-01T16:00:06Z</td>\n",
              "      <td>['peacock', 'peacock tv', 'peacock streaming s...</td>\n",
              "      <td>24</td>\n",
              "      <td>https://i.ytimg.com/vi/J9DUJRABuk4/maxresdefau...</td>\n",
              "      <td>NaN</td>\n",
              "      <td>['https://en.wikipedia.org/wiki/Entertainment'...</td>\n",
              "      <td>NaN</td>\n",
              "      <td>0</td>\n",
              "    </tr>\n",
              "    <tr>\n",
              "      <th>3</th>\n",
              "      <td>3</td>\n",
              "      <td>JQyX-EZq4hk</td>\n",
              "      <td>Behind the Scenes of The Office 2020 Gelatin M...</td>\n",
              "      <td>43150</td>\n",
              "      <td>163000</td>\n",
              "      <td>0.264724</td>\n",
              "      <td>1290.0</td>\n",
              "      <td>93.0</td>\n",
              "      <td>98.0</td>\n",
              "      <td>PT3M21S</td>\n",
              "      <td>Did you see Oscar Nunez and Kate Flannery blow...</td>\n",
              "      <td>2d</td>\n",
              "      <td>hd</td>\n",
              "      <td>False</td>\n",
              "      <td>2021-01-01T02:00:03Z</td>\n",
              "      <td>['peacock', 'peacock tv', 'peacock streaming s...</td>\n",
              "      <td>24</td>\n",
              "      <td>https://i.ytimg.com/vi/JQyX-EZq4hk/maxresdefau...</td>\n",
              "      <td>NaN</td>\n",
              "      <td>NaN</td>\n",
              "      <td>NaN</td>\n",
              "      <td>0</td>\n",
              "    </tr>\n",
              "    <tr>\n",
              "      <th>4</th>\n",
              "      <td>4</td>\n",
              "      <td>kvJUf6LHILk</td>\n",
              "      <td>The Office | New Year's Resolutions</td>\n",
              "      <td>26329</td>\n",
              "      <td>163000</td>\n",
              "      <td>0.161528</td>\n",
              "      <td>726.0</td>\n",
              "      <td>48.0</td>\n",
              "      <td>81.0</td>\n",
              "      <td>PT2M37S</td>\n",
              "      <td>The Office. Every Episode. Extras. Exclusives....</td>\n",
              "      <td>2d</td>\n",
              "      <td>hd</td>\n",
              "      <td>False</td>\n",
              "      <td>2020-12-31T14:00:23Z</td>\n",
              "      <td>['peacock', 'peacock tv', 'peacock streaming s...</td>\n",
              "      <td>24</td>\n",
              "      <td>https://i.ytimg.com/vi/kvJUf6LHILk/maxresdefau...</td>\n",
              "      <td>NaN</td>\n",
              "      <td>['https://en.wikipedia.org/wiki/Entertainment'...</td>\n",
              "      <td>NaN</td>\n",
              "      <td>0</td>\n",
              "    </tr>\n",
              "  </tbody>\n",
              "</table>\n",
              "</div>"
            ],
            "text/plain": [
              "   Unnamed: 0        index  ... default_language  live\n",
              "0           0  VKtJkY5w8s0  ...              NaN     0\n",
              "1           1  Vj-I54YlYTA  ...              NaN     0\n",
              "2           2  J9DUJRABuk4  ...              NaN     0\n",
              "3           3  JQyX-EZq4hk  ...              NaN     0\n",
              "4           4  kvJUf6LHILk  ...              NaN     0\n",
              "\n",
              "[5 rows x 22 columns]"
            ]
          },
          "metadata": {
            "tags": []
          },
          "execution_count": 6
        }
      ]
    }
  ]
}